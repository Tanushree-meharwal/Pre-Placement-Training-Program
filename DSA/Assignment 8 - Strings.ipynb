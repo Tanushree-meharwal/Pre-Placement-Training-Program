{
 "cells": [
  {
   "cell_type": "markdown",
   "id": "c82fc301",
   "metadata": {},
   "source": [
    "<aside>\n",
    "💡 **Question 1**\n",
    "\n",
    "Given two strings s1 and s2, return *the lowest **ASCII** sum of deleted characters to make two strings equal*.\n",
    "\n",
    "**Example 1:**\n",
    "\n",
    "**Input:** s1 = \"sea\", s2 = \"eat\"\n",
    "\n",
    "**Output:** 231\n",
    "\n",
    "**Explanation:** Deleting \"s\" from \"sea\" adds the ASCII value of \"s\" (115) to the sum.\n",
    "\n",
    "Deleting \"t\" from \"eat\" adds 116 to the sum.\n",
    "\n",
    "At the end, both strings are equal, and 115 + 116 = 231 is the minimum sum possible to achieve this.\n",
    "\n",
    "</aside>"
   ]
  },
  {
   "cell_type": "code",
   "execution_count": 1,
   "id": "731a4aa2",
   "metadata": {},
   "outputs": [
    {
     "name": "stdout",
     "output_type": "stream",
     "text": [
      "231\n"
     ]
    }
   ],
   "source": [
    "def minimumDeleteSum(s1, s2):\n",
    "    memo = {}\n",
    "    return dfs(s1, s2, 0, 0, memo)\n",
    "\n",
    "def dfs(s1, s2, i, j, memo):\n",
    "    if (i, j) in memo:\n",
    "        return memo[(i, j)]\n",
    "    \n",
    "    if i == len(s1) and j == len(s2):\n",
    "        return 0\n",
    "    \n",
    "    if i == len(s1):\n",
    "        return sum(ord(ch) for ch in s2[j:])\n",
    "    \n",
    "    if j == len(s2):\n",
    "        return sum(ord(ch) for ch in s1[i:])\n",
    "    \n",
    "    if s1[i] == s2[j]:\n",
    "        memo[(i, j)] = dfs(s1, s2, i + 1, j + 1, memo)\n",
    "    else:\n",
    "        delete_s1 = ord(s1[i]) + dfs(s1, s2, i + 1, j, memo)\n",
    "        delete_s2 = ord(s2[j]) + dfs(s1, s2, i, j + 1, memo)\n",
    "        memo[(i, j)] = min(delete_s1, delete_s2)\n",
    "    \n",
    "    return memo[(i, j)]\n",
    "s1 = \"sea\"\n",
    "s2 = \"eat\"\n",
    "print(minimumDeleteSum(s1, s2))"
   ]
  },
  {
   "cell_type": "markdown",
   "id": "bc5a84f5",
   "metadata": {},
   "source": [
    "<aside>\n",
    "💡 **Question 2**\n",
    "\n",
    "Given a string s containing only three types of characters: '(', ')' and '*', return true *if* s *is **valid***.\n",
    "\n",
    "The following rules define a **valid** string:\n",
    "\n",
    "- Any left parenthesis '(' must have a corresponding right parenthesis ')'.\n",
    "- Any right parenthesis ')' must have a corresponding left parenthesis '('.\n",
    "- Left parenthesis '(' must go before the corresponding right parenthesis ')'.\n",
    "- '*' could be treated as a single right parenthesis ')' or a single left parenthesis '(' or an empty string \"\".\n",
    "\n",
    "**Example 1:**\n",
    "\n",
    "**Input:** s = \"()\"\n",
    "\n",
    "**Output:**\n",
    "\n",
    "true\n",
    "\n",
    "</aside>"
   ]
  },
  {
   "cell_type": "code",
   "execution_count": 2,
   "id": "b2c52453",
   "metadata": {},
   "outputs": [
    {
     "name": "stdout",
     "output_type": "stream",
     "text": [
      "True\n"
     ]
    }
   ],
   "source": [
    "def isValid(s):\n",
    "    open_paren = 0\n",
    "    asterisk = 0\n",
    "    \n",
    "    for ch in s:\n",
    "        if ch == '(':\n",
    "            open_paren += 1\n",
    "        elif ch == '*':\n",
    "            asterisk += 1\n",
    "        elif ch == ')':\n",
    "            if open_paren > 0:\n",
    "                open_paren -= 1\n",
    "            elif asterisk > 0:\n",
    "                asterisk -= 1\n",
    "            else:\n",
    "                return False\n",
    "    \n",
    "    while open_paren > 0 and asterisk > 0:\n",
    "        open_paren -= 1\n",
    "        asterisk -= 1\n",
    "    \n",
    "    return open_paren == 0\n",
    "s = \"()\"\n",
    "print(isValid(s))"
   ]
  },
  {
   "cell_type": "markdown",
   "id": "8c344348",
   "metadata": {},
   "source": [
    "<aside>\n",
    "💡 **Question 3**\n",
    "\n",
    "Given two strings word1 and word2, return *the minimum number of **steps** required to make* word1 *and* word2 *the same*.\n",
    "\n",
    "In one **step**, you can delete exactly one character in either string.\n",
    "\n",
    "**Example 1:**\n",
    "\n",
    "**Input:** word1 = \"sea\", word2 = \"eat\"\n",
    "\n",
    "**Output:** 2\n",
    "\n",
    "**Explanation:** You need one step to make \"sea\" to \"ea\" and another step to make \"eat\" to \"ea\".\n",
    "\n",
    "</aside>"
   ]
  },
  {
   "cell_type": "code",
   "execution_count": 3,
   "id": "428119cd",
   "metadata": {},
   "outputs": [
    {
     "name": "stdout",
     "output_type": "stream",
     "text": [
      "2\n"
     ]
    }
   ],
   "source": [
    "def minDistance(word1, word2):\n",
    "    memo = {}\n",
    "\n",
    "    def helper(i, j):\n",
    "        # Base case: if either word1 or word2 is empty,\n",
    "        # the number of steps required is the length of the non-empty word\n",
    "        if i == 0:\n",
    "            return j\n",
    "        if j == 0:\n",
    "            return i\n",
    "\n",
    "        # Check if the solution is already memoized\n",
    "        if (i, j) in memo:\n",
    "            return memo[(i, j)]\n",
    "\n",
    "        # Case 1: If the current characters match, move to the next characters\n",
    "        if word1[i - 1] == word2[j - 1]:\n",
    "            memo[(i, j)] = helper(i - 1, j - 1)\n",
    "        else:\n",
    "            # Case 2: Delete a character from word1\n",
    "            delete_word1 = 1 + helper(i - 1, j)\n",
    "            # Case 3: Delete a character from word2\n",
    "            delete_word2 = 1 + helper(i, j - 1)\n",
    "            memo[(i, j)] = min(delete_word1, delete_word2)\n",
    "\n",
    "        return memo[(i, j)]\n",
    "\n",
    "    return helper(len(word1), len(word2))\n",
    "word1 = \"sea\"\n",
    "word2 = \"eat\"\n",
    "print(minDistance(word1, word2))"
   ]
  },
  {
   "cell_type": "markdown",
   "id": "7971a8c0",
   "metadata": {},
   "source": [
    "<aside>\n",
    "💡 **Question 4**\n",
    "\n",
    "You need to construct a binary tree from a string consisting of parenthesis and integers.\n",
    "\n",
    "The whole input represents a binary tree. It contains an integer followed by zero, one or two pairs of parenthesis. The integer represents the root's value and a pair of parenthesis contains a child binary tree with the same structure.\n",
    "You always start to construct the **left** child node of the parent first if it exists.\n",
    "Example 1\n",
    "**Input:** s = \"4(2(3)(1))(6(5))\"\n",
    "\n",
    "**Output:** [4,2,6,3,1,5]"
   ]
  },
  {
   "cell_type": "code",
   "execution_count": 4,
   "id": "d4357b8e",
   "metadata": {},
   "outputs": [
    {
     "name": "stdout",
     "output_type": "stream",
     "text": [
      "[4, 2, 3, 1, 6, 5]\n"
     ]
    }
   ],
   "source": [
    "def buildTree(s):\n",
    "    tree = []\n",
    "    if not s:\n",
    "        return tree\n",
    "\n",
    "    # Find the index of the first opening parenthesis \"(\"\n",
    "    index = s.find('(')\n",
    "    \n",
    "    if index == -1:\n",
    "        # No opening parenthesis found, so the entire string is the root value\n",
    "        root_val = int(s)\n",
    "        tree.append(root_val)\n",
    "        return tree\n",
    "\n",
    "    # Extract the root value\n",
    "    root_val = int(s[:index])\n",
    "    tree.append(root_val)\n",
    "\n",
    "    # Process the left and right substrings\n",
    "    count = 0\n",
    "    i = index\n",
    "    n = len(s)\n",
    "\n",
    "    while i < n:\n",
    "        if s[i] == '(':\n",
    "            count += 1\n",
    "        elif s[i] == ')':\n",
    "            count -= 1\n",
    "\n",
    "        if count == 0:\n",
    "            break\n",
    "\n",
    "        i += 1\n",
    "\n",
    "    left = s[index+1:i]\n",
    "    right = s[i+2:-1]\n",
    "\n",
    "    leftChild = buildTree(left)\n",
    "    rightChild = buildTree(right)\n",
    "\n",
    "    tree.extend(leftChild)\n",
    "    tree.extend(rightChild)\n",
    "\n",
    "    return tree \n",
    "\n",
    "s = \"4(2(3)(1))(6(5))\"\n",
    "tree = buildTree(s)\n",
    "print(tree)"
   ]
  },
  {
   "cell_type": "markdown",
   "id": "006e7fd4",
   "metadata": {},
   "source": [
    "<aside>\n",
    "💡 **Question 5**\n",
    "\n",
    "Given an array of characters chars, compress it using the following algorithm:\n",
    "\n",
    "Begin with an empty string s. For each group of **consecutive repeating characters** in chars:\n",
    "\n",
    "- If the group's length is 1, append the character to s.\n",
    "- Otherwise, append the character followed by the group's length.\n",
    "\n",
    "The compressed string s **should not be returned separately**, but instead, be stored **in the input character array chars**. Note that group lengths that are 10 or longer will be split into multiple characters in chars.\n",
    "\n",
    "After you are done **modifying the input array,** return *the new length of the array*.\n",
    "\n",
    "You must write an algorithm that uses only constant extra space.\n",
    "\n",
    "**Example 1:**\n",
    "\n",
    "**Input:** chars = [\"a\",\"a\",\"b\",\"b\",\"c\",\"c\",\"c\"]\n",
    "\n",
    "**Output:** Return 6, and the first 6 characters of the input array should be: [\"a\",\"2\",\"b\",\"2\",\"c\",\"3\"]\n",
    "\n",
    "**Explanation:**\n",
    "\n",
    "The groups are \"aa\", \"bb\", and \"ccc\". This compresses to \"a2b2c3\".\n",
    "\n",
    "</aside>"
   ]
  },
  {
   "cell_type": "code",
   "execution_count": 10,
   "id": "39007909",
   "metadata": {},
   "outputs": [
    {
     "name": "stdout",
     "output_type": "stream",
     "text": [
      "6\n",
      "['a', '2', 'b', '2', 'c', '3']\n"
     ]
    }
   ],
   "source": [
    "from typing import List\n",
    "class Solution:\n",
    "    def compress(self, chars: List[str]) -> int:\n",
    "        walker, runner = 0, 0\n",
    "        while runner < len(chars):\n",
    "            chars[walker] = chars[runner]\n",
    "            count = 1\n",
    "\n",
    "            while runner + 1 < len(chars) and chars[runner] == chars[runner+1]:\n",
    "                runner += 1\n",
    "                count += 1\n",
    "\n",
    "            if count > 1:\n",
    "                for c in str(count):\n",
    "                    chars[walker+1] = c\n",
    "                    walker += 1\n",
    "            \n",
    "            runner += 1\n",
    "            walker += 1\n",
    "        \n",
    "        return walker    \n",
    "solution = Solution()\n",
    "chars = ['a', 'a', 'b', 'b', 'c', 'c', 'c']\n",
    "print(solution.compress(chars))\n",
    "print(chars[:6])"
   ]
  },
  {
   "cell_type": "markdown",
   "id": "5f8a4843",
   "metadata": {},
   "source": [
    "<aside>\n",
    "💡 **Question 6**\n",
    "\n",
    "Given two strings s and p, return *an array of all the start indices of* p*'s anagrams in* s. You may return the answer in **any order**.\n",
    "\n",
    "An **Anagram** is a word or phrase formed by rearranging the letters of a different word or phrase, typically using all the original letters exactly once.\n",
    "\n",
    "**Example 1:**\n",
    "\n",
    "**Input:** s = \"cbaebabacd\", p = \"abc\"\n",
    "\n",
    "**Output:** [0,6]\n",
    "\n",
    "**Explanation:**\n",
    "\n",
    "The substring with start index = 0 is \"cba\", which is an anagram of \"abc\".\n",
    "\n",
    "The substring with start index = 6 is \"bac\", which is an anagram of \"abc\".\n",
    "\n",
    "</aside>"
   ]
  },
  {
   "cell_type": "code",
   "execution_count": 6,
   "id": "6724db01",
   "metadata": {},
   "outputs": [
    {
     "name": "stdout",
     "output_type": "stream",
     "text": [
      "[0, 6]\n"
     ]
    }
   ],
   "source": [
    "def countChars(s):\n",
    "    charCount = [0] * 26\n",
    "    for char in s:\n",
    "        charCount[ord(char) - ord('a')] += 1\n",
    "    return charCount\n",
    "\n",
    "def findAnagrams(s, p):\n",
    "    result = []\n",
    "    if len(s) < len(p):\n",
    "        return result\n",
    "\n",
    "    target_map = countChars(p)\n",
    "    window_map = countChars(s[:len(p)])\n",
    "\n",
    "    if target_map == window_map:\n",
    "        result.append(0)\n",
    "\n",
    "    left, right = 0, len(p)\n",
    "\n",
    "    while right < len(s):\n",
    "        window_map[ord(s[left]) - ord('a')] -= 1\n",
    "        if window_map[ord(s[left]) - ord('a')] == 0:\n",
    "            window_map[ord(s[left]) - ord('a')] = 0\n",
    "        window_map[ord(s[right]) - ord('a')] += 1\n",
    "\n",
    "        if target_map == window_map:\n",
    "            result.append(left + 1)\n",
    "\n",
    "        left += 1\n",
    "        right += 1\n",
    "\n",
    "    return result\n",
    "s = \"cbaebabacd\"\n",
    "p = \"abc\"\n",
    "indices = findAnagrams(s, p)\n",
    "print(indices)"
   ]
  },
  {
   "cell_type": "markdown",
   "id": "69cbce81",
   "metadata": {},
   "source": [
    "<aside>\n",
    "💡 **Question 7**\n",
    "\n",
    "Given an encoded string, return its decoded string.\n",
    "\n",
    "The encoding rule is: k[encoded_string], where the encoded_string inside the square brackets is being repeated exactly k times. Note that k is guaranteed to be a positive integer.\n",
    "\n",
    "You may assume that the input string is always valid; there are no extra white spaces, square brackets are well-formed, etc. Furthermore, you may assume that the original data does not contain any digits and that digits are only for those repeat numbers, k. For example, there will not be input like 3a or 2[4].\n",
    "\n",
    "The test cases are generated so that the length of the output will never exceed 105.\n",
    "\n",
    "**Example 1:**\n",
    "\n",
    "**Input:** s = \"3[a]2[bc]\"\n",
    "\n",
    "**Output:** \"aaabcbc\"\n",
    "\n",
    "</aside>"
   ]
  },
  {
   "cell_type": "code",
   "execution_count": 7,
   "id": "a402bd0c",
   "metadata": {},
   "outputs": [
    {
     "name": "stdout",
     "output_type": "stream",
     "text": [
      "aaabcbc\n"
     ]
    }
   ],
   "source": [
    "def decodeString(s):\n",
    "    stack = []\n",
    "    current_str = \"\"\n",
    "    repetition_count = 0\n",
    "\n",
    "    for char in s:\n",
    "        if char.isdigit():\n",
    "            repetition_count = repetition_count * 10 + int(char)\n",
    "        elif char == \"[\":\n",
    "            stack.append((current_str, repetition_count))\n",
    "            current_str = \"\"\n",
    "            repetition_count = 0\n",
    "        elif char == \"]\":\n",
    "            prev_str, prev_count = stack.pop()\n",
    "            current_str = prev_str + current_str * prev_count\n",
    "        else:\n",
    "            current_str += char\n",
    "\n",
    "    return current_str\n",
    "s = \"3[a]2[bc]\"\n",
    "decoded_string = decodeString(s)\n",
    "print(decoded_string)"
   ]
  },
  {
   "cell_type": "markdown",
   "id": "f39d34b8",
   "metadata": {},
   "source": [
    "<aside>\n",
    "💡 **Question 8**\n",
    "\n",
    "Given two strings s and goal, return true *if you can swap two letters in* s *so the result is equal to* goal*, otherwise, return* false*.*\n",
    "\n",
    "Swapping letters is defined as taking two indices i and j (0-indexed) such that i != j and swapping the characters at s[i] and s[j].\n",
    "\n",
    "- For example, swapping at indices 0 and 2 in \"abcd\" results in \"cbad\".\n",
    "\n",
    "**Example 1:**\n",
    "\n",
    "**Input:** s = \"ab\", goal = \"ba\"\n",
    "\n",
    "**Output:** true\n",
    "\n",
    "**Explanation:** You can swap s[0] = 'a' and s[1] = 'b' to get \"ba\", which is equal to goal.\n",
    "\n",
    "</aside>"
   ]
  },
  {
   "cell_type": "code",
   "execution_count": 8,
   "id": "6557a80d",
   "metadata": {},
   "outputs": [
    {
     "name": "stdout",
     "output_type": "stream",
     "text": [
      "True\n"
     ]
    }
   ],
   "source": [
    "def buddyStrings(s, goal):\n",
    "    if len(s) != len(goal) or set(s) != set(goal):\n",
    "        return False\n",
    "\n",
    "    if s == goal:\n",
    "        # Check if there are any duplicate characters in s\n",
    "        return len(s) - len(set(s)) >= 1\n",
    "\n",
    "    mismatched_pairs = []\n",
    "    for i in range(len(s)):\n",
    "        if s[i] != goal[i]:\n",
    "            mismatched_pairs.append((s[i], goal[i]))\n",
    "\n",
    "    return len(mismatched_pairs) == 2 and mismatched_pairs[0] == mismatched_pairs[1][::-1]\n",
    "s = \"ab\"\n",
    "goal = \"ba\"\n",
    "result = buddyStrings(s, goal)\n",
    "print(result)     "
   ]
  }
 ],
 "metadata": {
  "kernelspec": {
   "display_name": "Python 3 (ipykernel)",
   "language": "python",
   "name": "python3"
  },
  "language_info": {
   "codemirror_mode": {
    "name": "ipython",
    "version": 3
   },
   "file_extension": ".py",
   "mimetype": "text/x-python",
   "name": "python",
   "nbconvert_exporter": "python",
   "pygments_lexer": "ipython3",
   "version": "3.9.12"
  }
 },
 "nbformat": 4,
 "nbformat_minor": 5
}
