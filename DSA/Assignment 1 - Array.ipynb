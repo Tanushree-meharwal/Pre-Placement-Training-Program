{
 "cells": [
  {
   "attachments": {},
   "cell_type": "markdown",
   "id": "847ef63d",
   "metadata": {},
   "source": [
    "Q1.Given an array of integers nums and an integer target, return indices of the two numbers such that they add up to target.\n",
    "\n",
    "You may assume that each input would have exactly one solution, and you may not use the same element twice.\n",
    "\n",
    "You can return the answer in any order.\n",
    "\n",
    "Example:\n",
    "Input: nums = [2,7,11,15], target = 9\n",
    "Output0 [0,1]\n",
    "\n",
    "Explanation:Because nums[0] + nums[1] == 9, we return [0, 1]["
   ]
  },
  {
   "cell_type": "code",
   "execution_count": 5,
   "id": "9507a9cc",
   "metadata": {},
   "outputs": [
    {
     "name": "stdout",
     "output_type": "stream",
     "text": [
      "[0, 1]\n"
     ]
    }
   ],
   "source": [
    "class Sol:\n",
    "    def two_Sum(self, nums, target):\n",
    "        h = {}\n",
    "        for i, num in enumerate(nums):\n",
    "            n = target - num\n",
    "            if n not in h:\n",
    "                h[num] = i\n",
    "            else:\n",
    "                return [h[n], i]\n",
    "sol = Sol()\n",
    "nums = [2, 7, 11, 15]\n",
    "target = 9\n",
    "result = sol.two_Sum(nums, target)\n",
    "print(result)"
   ]
  },
  {
   "attachments": {},
   "cell_type": "markdown",
   "id": "4cef5693",
   "metadata": {},
   "source": [
    "Q2.Given an integer array nums and an integer val, remove all occurrences of val in nums in-place. The order of the elements may be changed. Then return the number of elements in nums which are not equal to val.\n",
    "\n",
    "Consider the number of elements in nums which are not equal to val be k, to get accepted, you need to do the following things:\n",
    "\n",
    "Change the array nums such that the first k elements of nums contain the elements which are not equal to val. The remaining elements of nums are not important as well as the size of nums.\n",
    "Return k.\n",
    "\n",
    "Example :\n",
    "Input: nums = [3,2,2,3], val = 3\n",
    "Output: 2, nums = [2,2,_*,_*]\n",
    "\n",
    "Explanation:Your function should return k = 2, with the first two elements of nums being 2. It does not matter what you leave beyond the returned k (hence they are underscores)[\n",
    "\n",
    "</aside>"
   ]
  },
  {
   "cell_type": "code",
   "execution_count": 6,
   "id": "b75e10cd",
   "metadata": {},
   "outputs": [
    {
     "name": "stdout",
     "output_type": "stream",
     "text": [
      "[2, 2]\n"
     ]
    }
   ],
   "source": [
    "class Sol:\n",
    "    def Removelement(self, nums, val):\n",
    "        i = 0\n",
    "        for x in nums:\n",
    "            if x != val:\n",
    "                nums[i] = x\n",
    "                i += 1\n",
    "        return i\n",
    "sol = Sol()\n",
    "nums = [3, 2, 2, 3]\n",
    "val = 3\n",
    "result = sol.Removelement(nums, val)\n",
    "print(nums[:result])"
   ]
  },
  {
   "attachments": {},
   "cell_type": "markdown",
   "id": "80001b28",
   "metadata": {},
   "source": [
    "Q3.Given a sorted array of distinct integers and a target value, return the index if the target is found. If not, return the index where it would be if it were inserted in order.\n",
    "\n",
    "You must write an algorithm with O(log n) runtime complexity.\n",
    "\n",
    "Example 1:\n",
    "Input: nums = [1,3,5,6], target = 5\n",
    "\n",
    "Output: 2"
   ]
  },
  {
   "cell_type": "code",
   "execution_count": 7,
   "id": "623a1617",
   "metadata": {},
   "outputs": [
    {
     "name": "stdout",
     "output_type": "stream",
     "text": [
      "2\n"
     ]
    }
   ],
   "source": [
    "class Sol:\n",
    "    def Searchinsert(self, nums, target):\n",
    "        l, r = 0, len(nums) - 1\n",
    "        while l <= r:\n",
    "            mid = l + (r - l) // 2\n",
    "            if nums[mid] >= target: \n",
    "                r = mid - 1\n",
    "            else: \n",
    "                l = mid + 1\n",
    "        return l    \n",
    "sol = Sol()\n",
    "nums = [1, 3, 5, 6]\n",
    "target = 5 \n",
    "result = sol.Searchinsert(nums, target)\n",
    "print(result)"
   ]
  },
  {
   "attachments": {},
   "cell_type": "markdown",
   "id": "6d1ece0b",
   "metadata": {},
   "source": [
    "Q4.You are given a large integer represented as an integer array digits, where each digits[i] is the ith digit of the integer. The digits are ordered from most significant to least significant in left-to-right order. The large integer does not contain any leading 0's.\n",
    "\n",
    "Increment the large integer by one and return the resulting array of digits.\n",
    "\n",
    "Example 1:\n",
    "Input: digits = [1,2,3]\n",
    "Output: [1,2,4]\n",
    "\n",
    "Explanation:The array represents the integer 123.\n",
    "\n",
    "Incrementing by one gives 123 + 1 = 124.\n",
    "Thus, the result should be [1,2,4]."
   ]
  },
  {
   "cell_type": "code",
   "execution_count": 8,
   "id": "2a91057c",
   "metadata": {},
   "outputs": [
    {
     "name": "stdout",
     "output_type": "stream",
     "text": [
      "[1, 2, 4]\n"
     ]
    }
   ],
   "source": [
    "class Sol:\n",
    "    def plusone(self, digits):\n",
    "        if digits[-1] == 9:\n",
    "            if len(digits) == 1:  \n",
    "                return [1, 0]\n",
    "            return self.plusone(digits[:-1]) + [0]\n",
    "        else:\n",
    "            digits[-1] += 1\n",
    "        return digits\n",
    "sol = Sol()\n",
    "digits = [1, 2, 3]\n",
    "result = sol.plusone(digits)\n",
    "print(result)"
   ]
  },
  {
   "attachments": {},
   "cell_type": "markdown",
   "id": "59d10dfd",
   "metadata": {},
   "source": [
    "Q5.You are given two integer arrays nums1 and nums2, sorted in non-decreasing order, and two integers m and n, representing the number of elements in nums1 and nums2 respectively.\n",
    "\n",
    "Merge nums1 and nums2 into a single array sorted in non-decreasing order.\n",
    "\n",
    "The final sorted array should not be returned by the function, but instead be stored inside the array nums1. To accommodate this, nums1 has a length of m + n, where the first m elements denote the elements that should be merged, and the last n elements are set to 0 and should be ignored. nums2 has a length of n.\n",
    "\n",
    "Example 1:\n",
    "Input: nums1 = [1,2,3,0,0,0], m = 3, nums2 = [2,5,6], n = 3\n",
    "Output: [1,2,2,3,5,6]\n",
    "\n",
    "Explanation:The arrays we are merging are [1,2,3] and [2,5,6].\n",
    "The result of the merge is [1,2,2,3,5,6] with the underlined elements coming from nums1."
   ]
  },
  {
   "cell_type": "code",
   "execution_count": 10,
   "id": "53d2dbc7",
   "metadata": {},
   "outputs": [
    {
     "name": "stdout",
     "output_type": "stream",
     "text": [
      "[1, 2, 2, 3, 5, 6]\n"
     ]
    }
   ],
   "source": [
    "class Sol:\n",
    "    def merge(self, nums1, a, nums2, b):\n",
    "        while b > 0:\n",
    "            if a <= 0 or nums2[b-1] >= nums1[a-1]:  \n",
    "                nums1[a+b-1] = nums2[b-1]\n",
    "                b -= 1\n",
    "            else:\n",
    "                nums1[a+b-1] = nums1[a-1]\n",
    "                a -= 1                \n",
    "sol= Sol()\n",
    "nums1 = [1, 2, 3, 0, 0, 0]\n",
    "a = 3\n",
    "nums2 = [2, 5, 6]\n",
    "b = 3\n",
    "sol.merge(nums1, a, nums2, b)\n",
    "print(nums1) "
   ]
  },
  {
   "attachments": {},
   "cell_type": "markdown",
   "id": "5917e77d",
   "metadata": {},
   "source": [
    "Q6.Given an integer array nums, return true if any value appears at least twice in the array, and return false if every element is distinct.\n",
    "\n",
    "Example 1:\n",
    "Input: nums = [1,2,3,1]\n",
    "\n",
    "Output: true"
   ]
  },
  {
   "cell_type": "code",
   "execution_count": 13,
   "id": "c93548d0",
   "metadata": {},
   "outputs": [
    {
     "name": "stdout",
     "output_type": "stream",
     "text": [
      "True\n"
     ]
    }
   ],
   "source": [
    "class Sol:\n",
    "    def Containsduplicate(self, nums):\n",
    "        set1 = set()\n",
    "        for i in nums:\n",
    "            if i in set1:\n",
    "                return True\n",
    "            else:\n",
    "                set1.add(i)\n",
    "sol = Sol()\n",
    "nums = [1, 2, 3, 1]\n",
    "print(sol.Containsduplicate(nums))"
   ]
  },
  {
   "attachments": {},
   "cell_type": "markdown",
   "id": "bbf31d91",
   "metadata": {},
   "source": [
    "Q7.Given an integer array nums, move all 0's to the end of it while maintaining the relative order of the nonzero elements.\n",
    "\n",
    "Note that you must do this in-place without making a copy of the array.\n",
    "Example 1:\n",
    "Input: nums = [0,1,0,3,12]\n",
    "Output: [1,3,12,0,0]"
   ]
  },
  {
   "cell_type": "code",
   "execution_count": 14,
   "id": "9b58dd6a",
   "metadata": {},
   "outputs": [
    {
     "name": "stdout",
     "output_type": "stream",
     "text": [
      "[1, 3, 12, 0, 0]\n"
     ]
    }
   ],
   "source": [
    "class Sol:\n",
    "    def Movezeroes(self, nums):\n",
    "        j = 0\n",
    "        for i in range(len(nums)):\n",
    "            if nums[i] != 0:\n",
    "                nums[j], nums[i] = nums[i], nums[j]\n",
    "                j += 1                \n",
    "sol = Sol()\n",
    "nums = [0, 1, 0, 3, 12]\n",
    "sol.Movezeroes(nums)\n",
    "print(nums)"
   ]
  },
  {
   "attachments": {},
   "cell_type": "markdown",
   "id": "89ebc6b1",
   "metadata": {},
   "source": [
    "Q8.You have a set of integers s, which originally contains all the numbers from 1 to n. Unfortunately, due to some error, one of the numbers in s got duplicated to another number in the set, which results in repetition of one number and loss of another number.\n",
    "\n",
    "You are given an integer array nums representing the data status of this set after the error.\n",
    "\n",
    "Find the number that occurs twice and the number that is missing and return them in the form of an array.\n",
    "\n",
    "Example 1:\n",
    "Input: nums = [1,2,2,4]\n",
    "Output: [2,3]"
   ]
  },
  {
   "cell_type": "code",
   "execution_count": 15,
   "id": "b4b2d1cf",
   "metadata": {},
   "outputs": [
    {
     "name": "stdout",
     "output_type": "stream",
     "text": [
      "[2, 3]\n"
     ]
    }
   ],
   "source": [
    "class Sol:\n",
    "    def Finderror(self, nums):\n",
    "        return [sum(nums) - sum(set(nums)), len(nums)*(len(nums)+1)//2 - sum(set(nums))]   \n",
    "sol = Sol()\n",
    "nums = [1, 2, 2, 4]\n",
    "result = sol.Finderror(nums)\n",
    "print(result)"
   ]
  }
 ],
 "metadata": {
  "kernelspec": {
   "display_name": "Python 3 (ipykernel)",
   "language": "python",
   "name": "python3"
  },
  "language_info": {
   "codemirror_mode": {
    "name": "ipython",
    "version": 3
   },
   "file_extension": ".py",
   "mimetype": "text/x-python",
   "name": "python",
   "nbconvert_exporter": "python",
   "pygments_lexer": "ipython3",
   "version": "3.9.12"
  }
 },
 "nbformat": 4,
 "nbformat_minor": 5
}
